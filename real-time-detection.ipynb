{
 "cells": [
  {
   "cell_type": "code",
   "execution_count": null,
   "id": "09f63831",
   "metadata": {},
   "outputs": [],
   "source": [
    "import cv2\n",
    "import easyocr\n",
    "import openpyxl"
   ]
  },
  {
   "cell_type": "code",
   "execution_count": null,
   "id": "bf4f3b45",
   "metadata": {},
   "outputs": [],
   "source": [
    "# creating excel sheet \n",
    "wb = openpyxl.Workbook()\n",
    "ws = wb.active\n",
    "ws.title = \"Number Plates\"\n",
    "ws['A1'] = 'Image Name'\n",
    "ws['B1'] = 'Number Plate Text'"
   ]
  },
  {
   "cell_type": "code",
   "execution_count": null,
   "id": "95a7554e",
   "metadata": {},
   "outputs": [],
   "source": [
    "vid = cv2.VideoCapture(0)\n",
    "\n",
    "count = 0\n",
    "\n",
    "img_path = os.path.join('Number_Plates/scanned_images')\n",
    "\n",
    "while True:\n",
    "    ret, frame = vid.read()\n",
    "    gray_image = cv2.cvtColor(frame, cv2.COLOR_BGR2GRAY)\n",
    "    cascasde = cv2.CascadeClassifier('haarcascade_russian_plate_number.xml')\n",
    "    \n",
    "    number_plates = cascasde.detectMultiScale(gray_image, 1.1, 4)\n",
    "    \n",
    "    for (x,y,w,h) in number_plates:\n",
    "        cv2.rectangle(frame, (x,y), (x+w,y+h), (255,0,0), 2)\n",
    "        cv2.putText(frame, \"Number Plate\", (x,y-5), cv2.FONT_HERSHEY_COMPLEX_SMALL, 1, (255, 0, 255), 2)\n",
    "        \n",
    "        plate_area = frame[y:y+h, x:x+w]\n",
    "        cv2.imshow('Number Plate', plate_area)\n",
    "    \n",
    "    \n",
    "        reader = easyocr.Reader(['en'])\n",
    "        number = reader.readtext(plate_area, detail=0)\n",
    "    \n",
    "        if number:\n",
    "            number_text = number[0]\n",
    "            print(\"Detected Number:\", number_text)\n",
    "            \n",
    "            img_name = 'Number_Plates/scanned_images' + str(count) + '.jpg'\n",
    "            ws.append([img_name, number_text])\n",
    "            count += 1\n",
    "    \n",
    "    cv2.imshow('Number Plate', frame)\n",
    "    \n",
    "    if cv2.waitKey(1) & 0XFF == ord('s'):\n",
    "        cv2.imwrite(img_name, plate_area)\n",
    "        cv2.rectangle(frame, (0,200), (640,300), (0,255,0), cv2.FILLED)\n",
    "        cv2.putText(frame, \"Plate Saved\", (150, 265), cv2.FONT_HERSHEY_COMPLEX_SMALL, 2, (0, 0, 255), 2)\n",
    "        cv2.imshow(\"Results\",frame)\n",
    "        cv2.waitKey(500)\n",
    "        \n",
    "    if cv2.waitKey(1) & 0XFF ==ord('x'):\n",
    "        break\n",
    "\n",
    "wb.save('number_plates.xlsx')        \n",
    "wb.close()\n",
    "        "
   ]
  },
  {
   "cell_type": "code",
   "execution_count": null,
   "id": "be950c1b",
   "metadata": {},
   "outputs": [],
   "source": []
  }
 ],
 "metadata": {
  "kernelspec": {
   "display_name": "Python 3 (ipykernel)",
   "language": "python",
   "name": "python3"
  },
  "language_info": {
   "codemirror_mode": {
    "name": "ipython",
    "version": 3
   },
   "file_extension": ".py",
   "mimetype": "text/x-python",
   "name": "python",
   "nbconvert_exporter": "python",
   "pygments_lexer": "ipython3",
   "version": "3.11.4"
  }
 },
 "nbformat": 4,
 "nbformat_minor": 5
}
